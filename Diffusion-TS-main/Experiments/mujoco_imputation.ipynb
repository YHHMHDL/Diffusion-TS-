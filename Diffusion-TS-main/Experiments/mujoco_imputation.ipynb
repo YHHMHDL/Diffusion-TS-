{
 "cells": [
  {
   "cell_type": "markdown",
   "metadata": {},
   "source": [
    "# Imputation Experiment on MUJOCO Dataset\n",
    "\n",
    "Forked from [SSSD repo](https://github.com/AI4HealthUOL/SSSD) : \n",
    "\n",
    "We collected the dataset directly from [NRTSI repository](https://github.com/lupalab/NRTSI/tree/main/codes_regularly-sampled), which provides a [link](https://www.dropbox.com/s/pjccc2piis8g2fx/mujoco_train.npy?dl=0) for the train set, and another [link](https://www.dropbox.com/s/ktkswh77sueqfy8/mujoco_test.npy?dl=0) for the test set.  \n",
    "\n",
    "Shan, Siyuan, Yang Li, and Junier B. Oliva. \"Nrtsi: Non-recurrent time series imputation.\" arXiv preprint arXiv:2102.03340 (2021)."
   ]
  },
  {
   "cell_type": "code",
   "execution_count": 5,
   "metadata": {
    "ExecuteTime": {
     "end_time": "2024-06-12T03:15:03.040728400Z",
     "start_time": "2024-06-12T03:15:03.021725300Z"
    }
   },
   "outputs": [],
   "source": [
    "import os\n",
    "import torch\n",
    "import numpy as np\n",
    "\n",
    "import warnings\n",
    "warnings.filterwarnings(\"ignore\")\n",
    "\n",
    "import sys\n",
    "sys.path.append(os.path.join(os.path.dirname('__file__'), '../'))\n",
    "\n",
    "from engine.solver import Trainer\n",
    "from torch.utils.data import Dataset\n",
    "from sklearn.preprocessing import MinMaxScaler\n",
    "from sklearn.metrics import mean_squared_error\n",
    "from Utils.io_utils import load_yaml_config, instantiate_from_config\n",
    "from Models.interpretable_diffusion.model_utils import normalize_to_neg_one_to_one, unnormalize_to_zero_to_one"
   ]
  },
  {
   "cell_type": "code",
   "execution_count": 6,
   "metadata": {
    "ExecuteTime": {
     "end_time": "2024-06-12T03:15:03.069735Z",
     "start_time": "2024-06-12T03:15:03.032726400Z"
    }
   },
   "outputs": [],
   "source": [
    "def random_mask(observed_values, missing_ratio=0.1, seed=1984, exclude_features=None):\n",
    "    observed_masks = ~np.isnan(observed_values)\n",
    "    if exclude_features is not None:\n",
    "        observed_masks[:, exclude_features] = False\n",
    "\n",
    "    # randomly set some percentage as ground-truth\n",
    "    masks = observed_masks.reshape(-1).copy()\n",
    "    obs_indices = np.where(masks)[0].tolist()\n",
    "\n",
    "    # Store the state of the RNG to restore later.\n",
    "    st0 = np.random.get_state()\n",
    "    np.random.seed(seed)\n",
    "\n",
    "    miss_indices = np.random.choice(\n",
    "        obs_indices, (int)(len(obs_indices) * missing_ratio), replace=False\n",
    "    )\n",
    "\n",
    "    # Restore RNG.\n",
    "    np.random.set_state(st0)\n",
    "    \n",
    "    masks[miss_indices] = False\n",
    "    gt_masks = masks.reshape(observed_masks.shape)\n",
    "    observed_values = np.nan_to_num(observed_values)\n",
    "    return observed_values, observed_masks, gt_masks"
   ]
  },
  {
   "cell_type": "code",
   "execution_count": 7,
   "metadata": {
    "ExecuteTime": {
     "end_time": "2024-06-12T03:15:03.071735Z",
     "start_time": "2024-06-12T03:15:03.045730300Z"
    }
   },
   "outputs": [],
   "source": [
    "class MUJOCODataset(Dataset):\n",
    "    def __init__(self, data, regular=True, ratio=0.):\n",
    "        super(MUJOCODataset, self).__init__()\n",
    "        self.sample_num = data.shape[0]\n",
    "        self.samples = data\n",
    "        self.regular = regular\n",
    "        self.mask = np.empty([0, data.shape[1], data.shape[2]])\n",
    "        if not self.regular:\n",
    "            for i in range(data.shape[0]):\n",
    "                *_, mask = random_mask(data[i, :, :], ratio)\n",
    "                self.mask = np.row_stack([self.mask, np.expand_dims(mask, 0)])\n",
    "        self.mask = self.mask.astype(bool)\n",
    "\n",
    "    def __getitem__(self, ind):\n",
    "        x = self.samples[ind, :, :]\n",
    "        if self.regular:\n",
    "            return torch.from_numpy(x).float()\n",
    "        mask = self.mask[ind, :, :]\n",
    "        return torch.from_numpy(x).float(), torch.from_numpy(mask)\n",
    "\n",
    "    def __len__(self):\n",
    "        return self.sample_num"
   ]
  },
  {
   "cell_type": "code",
   "execution_count": 8,
   "metadata": {
    "ExecuteTime": {
     "end_time": "2024-06-12T03:15:03.091739900Z",
     "start_time": "2024-06-12T03:15:03.061732500Z"
    }
   },
   "outputs": [
    {
     "name": "stdout",
     "output_type": "stream",
     "text": [
      "(8000, 100, 14) (2000, 100, 14)\n"
     ]
    }
   ],
   "source": [
    "train = np.load('../Data/mujoco_train.npy')  # downloaded from https://www.dropbox.com/s/pjccc2piis8g2fx/mujoco_train.npy?dl=0\n",
    "test = np.load('../Data/mujoco_test.npy')  # downloaded from https://www.dropbox.com/s/ktkswh77sueqfy8/mujoco_test.npy?dl=0\n",
    "\n",
    "print(train.shape, test.shape)"
   ]
  },
  {
   "cell_type": "code",
   "execution_count": 9,
   "metadata": {
    "ExecuteTime": {
     "end_time": "2024-06-12T03:15:03.248775800Z",
     "start_time": "2024-06-12T03:15:03.093741600Z"
    }
   },
   "outputs": [],
   "source": [
    "scaler = MinMaxScaler()\n",
    "train_scaled = normalize_to_neg_one_to_one(scaler.fit_transform(train.reshape(-1, train.shape[-1]))).reshape(train.shape)\n",
    "test_scaled = scaler.transform(test.reshape(-1, test.shape[-1])).reshape(test.shape)\n",
    "test_scaled = normalize_to_neg_one_to_one(test_scaled)\n",
    "\n",
    "train_dataset = MUJOCODataset(train_scaled)\n",
    "dataloader = torch.utils.data.DataLoader(train_dataset, batch_size=64, shuffle=True, num_workers=0, pin_memory=True, sampler=None)"
   ]
  },
  {
   "cell_type": "code",
   "execution_count": 10,
   "metadata": {
    "ExecuteTime": {
     "end_time": "2024-06-12T03:15:04.913194200Z",
     "start_time": "2024-06-12T03:15:03.247775300Z"
    }
   },
   "outputs": [],
   "source": [
    "class Args_Example:\n",
    "    def __init__(self) -> None:\n",
    "        self.config_path = '../Config/mujoco_sssd.yaml'\n",
    "        self.save_dir = '../imputation_exp'\n",
    "        self.gpu = 0\n",
    "        os.makedirs(self.save_dir, exist_ok=True)\n",
    "\n",
    "args =  Args_Example()\n",
    "configs = load_yaml_config(args.config_path)\n",
    "device = torch.device(f'cuda:{args.gpu}' if torch.cuda.is_available() else 'cpu')\n",
    "\n",
    "model = instantiate_from_config(configs['model']).to(device)\n",
    "trainer = Trainer(config=configs, args=args, model=model, dataloader={'dataloader':dataloader})"
   ]
  },
  {
   "cell_type": "code",
   "execution_count": 11,
   "metadata": {
    "ExecuteTime": {
     "end_time": "2024-06-12T03:41:34.221154600Z",
     "start_time": "2024-06-12T03:15:04.913194200Z"
    }
   },
   "outputs": [
    {
     "data": {
      "text/plain": "  0%|          | 0/12000 [00:00<?, ?it/s]",
      "application/vnd.jupyter.widget-view+json": {
       "version_major": 2,
       "version_minor": 0,
       "model_id": "2262e5c9905040049c2bfae8e70032e7"
      }
     },
     "metadata": {},
     "output_type": "display_data"
    },
    {
     "name": "stdout",
     "output_type": "stream",
     "text": [
      "training complete\n"
     ]
    }
   ],
   "source": [
    "trainer.train()"
   ]
  },
  {
   "cell_type": "code",
   "execution_count": 12,
   "metadata": {
    "ExecuteTime": {
     "end_time": "2024-06-12T04:07:17.937684400Z",
     "start_time": "2024-06-12T03:41:34.222155100Z"
    }
   },
   "outputs": [
    {
     "data": {
      "text/plain": "conditional sampling loop time step:   0%|          | 0/200 [00:00<?, ?it/s]",
      "application/vnd.jupyter.widget-view+json": {
       "version_major": 2,
       "version_minor": 0,
       "model_id": "34b222e6e005492ab67ac690f1a4a919"
      }
     },
     "metadata": {},
     "output_type": "display_data"
    },
    {
     "data": {
      "text/plain": "conditional sampling loop time step:   0%|          | 0/200 [00:00<?, ?it/s]",
      "application/vnd.jupyter.widget-view+json": {
       "version_major": 2,
       "version_minor": 0,
       "model_id": "c9f465c765ff4fdb9d8d888425cb62b1"
      }
     },
     "metadata": {},
     "output_type": "display_data"
    },
    {
     "data": {
      "text/plain": "conditional sampling loop time step:   0%|          | 0/200 [00:00<?, ?it/s]",
      "application/vnd.jupyter.widget-view+json": {
       "version_major": 2,
       "version_minor": 0,
       "model_id": "389bd66a969d4845bd0ee4dcd0788362"
      }
     },
     "metadata": {},
     "output_type": "display_data"
    },
    {
     "data": {
      "text/plain": "conditional sampling loop time step:   0%|          | 0/200 [00:00<?, ?it/s]",
      "application/vnd.jupyter.widget-view+json": {
       "version_major": 2,
       "version_minor": 0,
       "model_id": "e47b46b5c8d647c392a4758e6c1046eb"
      }
     },
     "metadata": {},
     "output_type": "display_data"
    },
    {
     "data": {
      "text/plain": "conditional sampling loop time step:   0%|          | 0/200 [00:00<?, ?it/s]",
      "application/vnd.jupyter.widget-view+json": {
       "version_major": 2,
       "version_minor": 0,
       "model_id": "7907acebbc934dfba28b5ee1f119329a"
      }
     },
     "metadata": {},
     "output_type": "display_data"
    },
    {
     "data": {
      "text/plain": "conditional sampling loop time step:   0%|          | 0/200 [00:00<?, ?it/s]",
      "application/vnd.jupyter.widget-view+json": {
       "version_major": 2,
       "version_minor": 0,
       "model_id": "d0bd56a01ab04c8fbc2e1b6d1c3d4ccc"
      }
     },
     "metadata": {},
     "output_type": "display_data"
    },
    {
     "data": {
      "text/plain": "conditional sampling loop time step:   0%|          | 0/200 [00:00<?, ?it/s]",
      "application/vnd.jupyter.widget-view+json": {
       "version_major": 2,
       "version_minor": 0,
       "model_id": "91684b377c844166ae6ef041a6f851b1"
      }
     },
     "metadata": {},
     "output_type": "display_data"
    },
    {
     "data": {
      "text/plain": "conditional sampling loop time step:   0%|          | 0/200 [00:00<?, ?it/s]",
      "application/vnd.jupyter.widget-view+json": {
       "version_major": 2,
       "version_minor": 0,
       "model_id": "1f969130903b4651a1f0851b244c1297"
      }
     },
     "metadata": {},
     "output_type": "display_data"
    },
    {
     "name": "stdout",
     "output_type": "stream",
     "text": [
      "Now with 0.7 unobserved: 0.00026160880941437383\n"
     ]
    },
    {
     "data": {
      "text/plain": "conditional sampling loop time step:   0%|          | 0/200 [00:00<?, ?it/s]",
      "application/vnd.jupyter.widget-view+json": {
       "version_major": 2,
       "version_minor": 0,
       "model_id": "11621a16b76c4129875b00dc6dc599b0"
      }
     },
     "metadata": {},
     "output_type": "display_data"
    },
    {
     "data": {
      "text/plain": "conditional sampling loop time step:   0%|          | 0/200 [00:00<?, ?it/s]",
      "application/vnd.jupyter.widget-view+json": {
       "version_major": 2,
       "version_minor": 0,
       "model_id": "f21f34e30b914815a192cb8ad000f147"
      }
     },
     "metadata": {},
     "output_type": "display_data"
    },
    {
     "data": {
      "text/plain": "conditional sampling loop time step:   0%|          | 0/200 [00:00<?, ?it/s]",
      "application/vnd.jupyter.widget-view+json": {
       "version_major": 2,
       "version_minor": 0,
       "model_id": "12b34b97deff4b65aef41bcc5cae3585"
      }
     },
     "metadata": {},
     "output_type": "display_data"
    },
    {
     "data": {
      "text/plain": "conditional sampling loop time step:   0%|          | 0/200 [00:00<?, ?it/s]",
      "application/vnd.jupyter.widget-view+json": {
       "version_major": 2,
       "version_minor": 0,
       "model_id": "a300402ee68d4faca87934af270aa33c"
      }
     },
     "metadata": {},
     "output_type": "display_data"
    },
    {
     "data": {
      "text/plain": "conditional sampling loop time step:   0%|          | 0/200 [00:00<?, ?it/s]",
      "application/vnd.jupyter.widget-view+json": {
       "version_major": 2,
       "version_minor": 0,
       "model_id": "ec466251e51647899f7937aa2aead79a"
      }
     },
     "metadata": {},
     "output_type": "display_data"
    },
    {
     "data": {
      "text/plain": "conditional sampling loop time step:   0%|          | 0/200 [00:00<?, ?it/s]",
      "application/vnd.jupyter.widget-view+json": {
       "version_major": 2,
       "version_minor": 0,
       "model_id": "c7190dda5813479ca2c336929c5119b8"
      }
     },
     "metadata": {},
     "output_type": "display_data"
    },
    {
     "data": {
      "text/plain": "conditional sampling loop time step:   0%|          | 0/200 [00:00<?, ?it/s]",
      "application/vnd.jupyter.widget-view+json": {
       "version_major": 2,
       "version_minor": 0,
       "model_id": "9cf5b40e69484d3bbbad19770b69c034"
      }
     },
     "metadata": {},
     "output_type": "display_data"
    },
    {
     "data": {
      "text/plain": "conditional sampling loop time step:   0%|          | 0/200 [00:00<?, ?it/s]",
      "application/vnd.jupyter.widget-view+json": {
       "version_major": 2,
       "version_minor": 0,
       "model_id": "085b237ceedc434784e33eed9124ba7c"
      }
     },
     "metadata": {},
     "output_type": "display_data"
    },
    {
     "name": "stdout",
     "output_type": "stream",
     "text": [
      "Now with 0.8 unobserved: 0.0003078939406148548\n"
     ]
    },
    {
     "data": {
      "text/plain": "conditional sampling loop time step:   0%|          | 0/200 [00:00<?, ?it/s]",
      "application/vnd.jupyter.widget-view+json": {
       "version_major": 2,
       "version_minor": 0,
       "model_id": "ccd2246ec0b6462db1470f938fa3075e"
      }
     },
     "metadata": {},
     "output_type": "display_data"
    },
    {
     "data": {
      "text/plain": "conditional sampling loop time step:   0%|          | 0/200 [00:00<?, ?it/s]",
      "application/vnd.jupyter.widget-view+json": {
       "version_major": 2,
       "version_minor": 0,
       "model_id": "a8498ff1bc994ef0bd24943b50c02cf0"
      }
     },
     "metadata": {},
     "output_type": "display_data"
    },
    {
     "data": {
      "text/plain": "conditional sampling loop time step:   0%|          | 0/200 [00:00<?, ?it/s]",
      "application/vnd.jupyter.widget-view+json": {
       "version_major": 2,
       "version_minor": 0,
       "model_id": "aafc4be6b8244e649bb0b07920487c66"
      }
     },
     "metadata": {},
     "output_type": "display_data"
    },
    {
     "data": {
      "text/plain": "conditional sampling loop time step:   0%|          | 0/200 [00:00<?, ?it/s]",
      "application/vnd.jupyter.widget-view+json": {
       "version_major": 2,
       "version_minor": 0,
       "model_id": "2c4141f5cddd40e1930fac5014fc814e"
      }
     },
     "metadata": {},
     "output_type": "display_data"
    },
    {
     "data": {
      "text/plain": "conditional sampling loop time step:   0%|          | 0/200 [00:00<?, ?it/s]",
      "application/vnd.jupyter.widget-view+json": {
       "version_major": 2,
       "version_minor": 0,
       "model_id": "e30463d1fc3242308ee8258b9095d9a5"
      }
     },
     "metadata": {},
     "output_type": "display_data"
    },
    {
     "data": {
      "text/plain": "conditional sampling loop time step:   0%|          | 0/200 [00:00<?, ?it/s]",
      "application/vnd.jupyter.widget-view+json": {
       "version_major": 2,
       "version_minor": 0,
       "model_id": "edda9c5a09ba44c3bca5bf4c512e15bc"
      }
     },
     "metadata": {},
     "output_type": "display_data"
    },
    {
     "data": {
      "text/plain": "conditional sampling loop time step:   0%|          | 0/200 [00:00<?, ?it/s]",
      "application/vnd.jupyter.widget-view+json": {
       "version_major": 2,
       "version_minor": 0,
       "model_id": "c5cbd791e8db498db8b7323b754b96ae"
      }
     },
     "metadata": {},
     "output_type": "display_data"
    },
    {
     "data": {
      "text/plain": "conditional sampling loop time step:   0%|          | 0/200 [00:00<?, ?it/s]",
      "application/vnd.jupyter.widget-view+json": {
       "version_major": 2,
       "version_minor": 0,
       "model_id": "843eeb728bc347b0a73c542c20058ef3"
      }
     },
     "metadata": {},
     "output_type": "display_data"
    },
    {
     "name": "stdout",
     "output_type": "stream",
     "text": [
      "Now with 0.9 unobserved: 0.0005194897789789528\n"
     ]
    }
   ],
   "source": [
    "sample_num, seq_length, feat_num = test_scaled.shape\n",
    "\n",
    "for missing_ratio in [0.7, 0.8, 0.9]:\n",
    "    mses = []\n",
    "    samples = np.empty([0, sample_num, seq_length, feat_num])\n",
    "    test_dataset = MUJOCODataset(test_scaled, regular=False, ratio=missing_ratio)\n",
    "    test_dataloader = torch.utils.data.DataLoader(test_dataset, batch_size=256, shuffle=False, num_workers=0, pin_memory=True, sampler=None)\n",
    "\n",
    "    sample, *_ = trainer.restore(test_dataloader, shape=[seq_length, feat_num], coef=1e-2, stepsize=5e-2, sampling_steps=200)\n",
    "    sample = scaler.inverse_transform(unnormalize_to_zero_to_one(sample.reshape(-1, feat_num))).reshape(sample.shape)\n",
    "    samples = np.row_stack([samples, np.expand_dims(sample, 0)])\n",
    "    mask = test_dataset.mask\n",
    "    mse = mean_squared_error(sample[~mask], test[~mask])\n",
    "    print(f'Now with {missing_ratio} unobserved: {mse}')"
   ]
  }
 ],
 "metadata": {
  "kernelspec": {
   "display_name": "DPlearning_3.8",
   "language": "python",
   "name": "python3"
  },
  "language_info": {
   "codemirror_mode": {
    "name": "ipython",
    "version": 3
   },
   "file_extension": ".py",
   "mimetype": "text/x-python",
   "name": "python",
   "nbconvert_exporter": "python",
   "pygments_lexer": "ipython3",
   "version": "3.8.13"
  }
 },
 "nbformat": 4,
 "nbformat_minor": 2
}
